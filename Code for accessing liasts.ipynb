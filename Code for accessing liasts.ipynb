{
 "cells": [
  {
   "cell_type": "markdown",
   "id": "58377608",
   "metadata": {},
   "source": [
    "### Create lists"
   ]
  },
  {
   "cell_type": "code",
   "execution_count": 2,
   "id": "0244aeee",
   "metadata": {},
   "outputs": [],
   "source": [
    "list1 = ['Statistics','Programming',2016,2017,2018];\n",
    "list2 =['a','b',1,2,3,4,5,6,7];"
   ]
  },
  {
   "cell_type": "code",
   "execution_count": 8,
   "id": "1713b8ba",
   "metadata": {},
   "outputs": [
    {
     "name": "stdout",
     "output_type": "stream",
     "text": [
      "list1[0]:= Statistics\n",
      "list2[1:5]= ['b', 1, 2, 3]\n"
     ]
    }
   ],
   "source": [
    "# Accessing values: in lists\n",
    "print('list1[0]:=',list1[0])\n",
    "print('list2[1:5]=',list2[1:5])"
   ]
  }
 ],
 "metadata": {
  "kernelspec": {
   "display_name": "Python 3",
   "language": "python",
   "name": "python3"
  },
  "language_info": {
   "codemirror_mode": {
    "name": "ipython",
    "version": 3
   },
   "file_extension": ".py",
   "mimetype": "text/x-python",
   "name": "python",
   "nbconvert_exporter": "python",
   "pygments_lexer": "ipython3",
   "version": "3.8.8"
  }
 },
 "nbformat": 4,
 "nbformat_minor": 5
}
