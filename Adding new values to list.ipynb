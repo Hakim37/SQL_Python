{
 "cells": [
  {
   "cell_type": "markdown",
   "id": "32a2086c",
   "metadata": {},
   "source": [
    "### Create list"
   ]
  },
  {
   "cell_type": "code",
   "execution_count": 1,
   "id": "256889fb",
   "metadata": {},
   "outputs": [],
   "source": [
    "list1 = ['Statistics','Programming',2016,2017,2018];\n",
    "list2 =['a','b',1,2,3,4,5,6,7];"
   ]
  },
  {
   "cell_type": "code",
   "execution_count": 2,
   "id": "83e6a62b",
   "metadata": {},
   "outputs": [
    {
     "name": "stdout",
     "output_type": "stream",
     "text": [
      "list1 values: ['Statistics', 'Programming', 2016, 2017, 2018]\n"
     ]
    }
   ],
   "source": [
    "print('list1 values:',list1)"
   ]
  },
  {
   "cell_type": "code",
   "execution_count": 3,
   "id": "50154efe",
   "metadata": {},
   "outputs": [
    {
     "data": {
      "text/plain": [
       "['Statistics', 'Programming', 2016, 2017, 2018, 2019]"
      ]
     },
     "execution_count": 3,
     "metadata": {},
     "output_type": "execute_result"
    }
   ],
   "source": [
    "list1.append(2019)\n",
    "list1"
   ]
  },
  {
   "cell_type": "code",
   "execution_count": 4,
   "id": "cabded38",
   "metadata": {},
   "outputs": [],
   "source": [
    "list2.append(2020)"
   ]
  },
  {
   "cell_type": "code",
   "execution_count": 5,
   "id": "f0b3e8ef",
   "metadata": {},
   "outputs": [
    {
     "name": "stdout",
     "output_type": "stream",
     "text": [
      "list1 values post append: ['a', 'b', 1, 2, 3, 4, 5, 6, 7, 2020]\n"
     ]
    }
   ],
   "source": [
    "print('list1 values post append:',list2)"
   ]
  },
  {
   "cell_type": "markdown",
   "id": "f62c60f6",
   "metadata": {},
   "source": [
    "### udating existing values of lists"
   ]
  },
  {
   "cell_type": "code",
   "execution_count": 6,
   "id": "b406ded7",
   "metadata": {},
   "outputs": [
    {
     "name": "stdout",
     "output_type": "stream",
     "text": [
      "Values of list1: ['Statistics', 'Programming', 2016, 2017, 2018, 2019]\n"
     ]
    }
   ],
   "source": [
    "print('Values of list1:',list1)"
   ]
  },
  {
   "cell_type": "code",
   "execution_count": 7,
   "id": "174c0b50",
   "metadata": {},
   "outputs": [
    {
     "data": {
      "text/plain": [
       "2016"
      ]
     },
     "execution_count": 7,
     "metadata": {},
     "output_type": "execute_result"
    }
   ],
   "source": [
    "list1[2]"
   ]
  },
  {
   "cell_type": "code",
   "execution_count": 8,
   "id": "a4cb6ebe",
   "metadata": {},
   "outputs": [
    {
     "data": {
      "text/plain": [
       "['Statistics', 'Programming', 2015, 2017, 2018, 2019]"
      ]
     },
     "execution_count": 8,
     "metadata": {},
     "output_type": "execute_result"
    }
   ],
   "source": [
    "list1[2]=2015\n",
    "list1"
   ]
  },
  {
   "cell_type": "code",
   "execution_count": 9,
   "id": "8e9e5736",
   "metadata": {},
   "outputs": [
    {
     "data": {
      "text/plain": [
       "['Statistics', 'Programming', 2015, 2017, 2018, 2019]"
      ]
     },
     "execution_count": 9,
     "metadata": {},
     "output_type": "execute_result"
    }
   ],
   "source": [
    "list1"
   ]
  },
  {
   "cell_type": "markdown",
   "id": "4e737467",
   "metadata": {},
   "source": [
    "## delect fuction"
   ]
  },
  {
   "cell_type": "code",
   "execution_count": 10,
   "id": "6db9cdc2",
   "metadata": {},
   "outputs": [],
   "source": [
    "del list1[4]"
   ]
  },
  {
   "cell_type": "code",
   "execution_count": 11,
   "id": "5e1f2dd2",
   "metadata": {},
   "outputs": [
    {
     "data": {
      "text/plain": [
       "['Statistics', 'Programming', 2015, 2017, 2019]"
      ]
     },
     "execution_count": 11,
     "metadata": {},
     "output_type": "execute_result"
    }
   ],
   "source": [
    "list1"
   ]
  }
 ],
 "metadata": {
  "kernelspec": {
   "display_name": "Python 3",
   "language": "python",
   "name": "python3"
  },
  "language_info": {
   "codemirror_mode": {
    "name": "ipython",
    "version": 3
   },
   "file_extension": ".py",
   "mimetype": "text/x-python",
   "name": "python",
   "nbconvert_exporter": "python",
   "pygments_lexer": "ipython3",
   "version": "3.8.8"
  }
 },
 "nbformat": 4,
 "nbformat_minor": 5
}
